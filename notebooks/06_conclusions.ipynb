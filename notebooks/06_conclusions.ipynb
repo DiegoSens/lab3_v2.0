{
 "cells": [
  {
   "cell_type": "markdown",
   "metadata": {},
   "source": [
    "# Conclusions\n",
    "##### Authors: Diego Senso González, Luis Vaciero\n",
    "##### 11 december 2020\n",
    "##### Module: Machine Learning - Master's Degree Data Science for Finance"
   ]
  },
  {
   "cell_type": "markdown",
   "metadata": {},
   "source": [
    "First, we performed an EDA to get a first idea of how the different variables we were going to work with were distributed and behaved. Once this numerical and graphic analysis was done, we went on to clean the dataset of those variables that were not going to be useful for the study. In this way, we discarded step by step different variables according to various criteria. After that, we used the Lasso model to choose only those variables that were influential in predicting whether or not a client would pay back the contracted loan. In total, we were left with 24 variables to estimate the models and try to predict the target variable. Additionally, we had to perform a specific treatment to those variables that contained absent values, or those that were categorical and had to be transformed into \"dummy\" format.\n",
    "\n",
    "Once the desired variables for the study are obtained, we go on to estimate the proposed models. These models are the following:\n",
    "\n",
    "- **Logistic Regression**\n",
    "- **Support Vector Machine (SVM)**\n",
    "- **Random Forest**\n",
    "- **XGBoost**\n",
    "\n",
    "Once all these models were made, we were able to compare the different values of the accuracy indicator. Firstly, the **Logistic Regression Model** achieved an accuracy of **62.30% (AUC = 0.70)**, being a priori the simplest model. On the other hand, the **Support Vector Machine** offered a somewhat worse result, as the accuracy dropped to **69.14% (AUC = 0.55)**. When predicting each of the two values of the \"loan_status\" variable, the results differed from each other. Both models had a good score predicting when a client would pay (85% and 77% in logistics and SVM respectively), but both had low accuracy predicting those who would not pay back the loan (37% and 30%).\n",
    "\n",
    "After that we went on to estimate the **Random Forest** model, more complex than the previous two. This offered us an accuracy that amounted to **74.9% (AUC = 0.69)**. En cuanto al modelo **XGBoost**, el accuracy que arrojo fue del **75.01% (AUC = 0.70)**. Both models have similar accuracy, but it is clear that they are better results than the previous models. Therefore, it should be noted that our best model has been XGBoost one, followed closely by the Random Forest. Somewhat farther away is the logistic regression model, leaving the worst one as the Support Vector Machine.\n",
    "\n",
    "To conclude, in case we had to put one of these models in production, we would choose between the Random Forest and the XGBoost because they are the ones that offer more precision. Among them two, the one chosen would be the one with the lowest cost, since its precision is very similar.\n",
    "\n",
    "Finally, we think that although the results of the models are not necessarily low, we could improve them in the future by making a better treatment of variables, or looking for others that could be explanatory. Also, more tests could be done including more or less variables and observing how the model behaves. Having said all this, the last step is to test the different models stored on new data sets, to observe how they behave when faced with new observations."
   ]
  }
 ],
 "metadata": {
  "kernelspec": {
   "display_name": "gradiente",
   "language": "python",
   "name": "gradiente"
  },
  "language_info": {
   "codemirror_mode": {
    "name": "ipython",
    "version": 3
   },
   "file_extension": ".py",
   "mimetype": "text/x-python",
   "name": "python",
   "nbconvert_exporter": "python",
   "pygments_lexer": "ipython3",
   "version": "3.8.5"
  },
  "toc": {
   "base_numbering": 1,
   "nav_menu": {},
   "number_sections": false,
   "sideBar": true,
   "skip_h1_title": false,
   "title_cell": "Table of Contents",
   "title_sidebar": "Contents",
   "toc_cell": false,
   "toc_position": {
    "height": "calc(100% - 180px)",
    "left": "10px",
    "top": "150px",
    "width": "284.444px"
   },
   "toc_section_display": true,
   "toc_window_display": true
  }
 },
 "nbformat": 4,
 "nbformat_minor": 4
}
