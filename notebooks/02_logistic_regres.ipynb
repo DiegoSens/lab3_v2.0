{
 "cells": [
  {
   "cell_type": "markdown",
   "metadata": {},
   "source": [
    "# Logistic Regression Model\n",
    "##### Authors: Diego Senso González, Luis Vaciero\n",
    "##### 11 december 2020\n",
    "##### Module: Machine Learning - Master's Degree Data Science for Finance"
   ]
  },
  {
   "cell_type": "markdown",
   "metadata": {},
   "source": [
    "We are going to fit logistic regression model as our first model to predict loan_status. This is one of the most simple models, so we will fit it to get an idea about how good we can predict out Y. We hope to get good results, but we also expect that models like Random Forest and XGBoost obtain better accuracy than this."
   ]
  },
  {
   "cell_type": "markdown",
   "metadata": {},
   "source": [
    "## Libraries"
   ]
  },
  {
   "cell_type": "markdown",
   "metadata": {},
   "source": [
    "We load required libraries to fit these models."
   ]
  },
  {
   "cell_type": "code",
   "execution_count": 27,
   "metadata": {},
   "outputs": [],
   "source": [
    "import pandas as pd\n",
    "import numpy as np\n",
    "import matplotlib.pyplot as plt\n",
    "import seaborn as sns\n",
    "%matplotlib inline\n",
    "import matplotlib\n",
    "from matplotlib import pyplot as plt\n",
    "from scipy import stats as sts\n",
    "from sklearn import model_selection\n",
    "from sklearn import linear_model\n",
    "from sklearn import metrics\n",
    "from sklearn.linear_model import Ridge, RidgeCV\n",
    "from sklearn.linear_model import Lasso, LassoCV\n",
    "from sklearn.linear_model import LogisticRegression\n",
    "from sklearn.metrics import r2_score\n",
    "from sklearn.model_selection import train_test_split\n",
    "from sklearn.model_selection import GridSearchCV\n",
    "from sklearn.metrics import mean_squared_error\n",
    "from sklearn.preprocessing import StandardScaler\n",
    "from sklearn import preprocessing\n",
    "from sklearn.ensemble import IsolationForest\n",
    "from sklearn import svm, datasets\n",
    "from sklearn.model_selection import train_test_split\n",
    "from sklearn.metrics import plot_confusion_matrix\n",
    "from math import sqrt\n",
    "import itertools\n",
    "import math\n",
    "from imblearn.over_sampling import SMOTE\n",
    "from sklearn.svm import SVC\n",
    "from sklearn.metrics import classification_report, confusion_matrix\n",
    "from sklearn.ensemble import RandomForestRegressor, RandomForestClassifier\n",
    "import xgboost as xgb\n",
    "from sklearn.metrics import roc_curve, roc_auc_score, plot_roc_curve\n",
    "from sklearn.datasets import make_classification\n",
    "import random\n",
    "random.seed(1234)\n",
    "from sklearn.impute import KNNImputer\n",
    "from numpy import loadtxt\n",
    "from xgboost import XGBClassifier\n",
    "from sklearn.model_selection import train_test_split\n",
    "from sklearn.metrics import accuracy_score\n",
    "import pickle\n",
    "import scikitplot as skplt"
   ]
  },
  {
   "cell_type": "markdown",
   "metadata": {},
   "source": [
    "We load the objetive dataset."
   ]
  },
  {
   "cell_type": "code",
   "execution_count": 28,
   "metadata": {},
   "outputs": [
    {
     "data": {
      "text/html": [
       "<div>\n",
       "<style scoped>\n",
       "    .dataframe tbody tr th:only-of-type {\n",
       "        vertical-align: middle;\n",
       "    }\n",
       "\n",
       "    .dataframe tbody tr th {\n",
       "        vertical-align: top;\n",
       "    }\n",
       "\n",
       "    .dataframe thead th {\n",
       "        text-align: right;\n",
       "    }\n",
       "</style>\n",
       "<table border=\"1\" class=\"dataframe\">\n",
       "  <thead>\n",
       "    <tr style=\"text-align: right;\">\n",
       "      <th></th>\n",
       "      <th>Unnamed: 0</th>\n",
       "      <th>num_rev_tl_bal_gt_0</th>\n",
       "      <th>D</th>\n",
       "      <th>sec_app_chargeoff_within_12_mths</th>\n",
       "      <th>dti</th>\n",
       "      <th>F</th>\n",
       "      <th>sec_app_inq_last_6mths</th>\n",
       "      <th>mort_acc</th>\n",
       "      <th>B</th>\n",
       "      <th>tax_liens</th>\n",
       "      <th>...</th>\n",
       "      <th>open_acc</th>\n",
       "      <th>sec_app_mort_acc</th>\n",
       "      <th>sec_app_open_act_il</th>\n",
       "      <th>G</th>\n",
       "      <th>A</th>\n",
       "      <th>policy_code</th>\n",
       "      <th>num_rev_accts</th>\n",
       "      <th>E</th>\n",
       "      <th>num_bc_sats</th>\n",
       "      <th>loan_status</th>\n",
       "    </tr>\n",
       "  </thead>\n",
       "  <tbody>\n",
       "    <tr>\n",
       "      <th>0</th>\n",
       "      <td>8</td>\n",
       "      <td>9.0</td>\n",
       "      <td>0</td>\n",
       "      <td>0.0</td>\n",
       "      <td>16.99</td>\n",
       "      <td>0</td>\n",
       "      <td>0.0</td>\n",
       "      <td>2.0</td>\n",
       "      <td>0</td>\n",
       "      <td>0.0</td>\n",
       "      <td>...</td>\n",
       "      <td>20.0</td>\n",
       "      <td>0.0</td>\n",
       "      <td>0.0</td>\n",
       "      <td>0</td>\n",
       "      <td>1</td>\n",
       "      <td>1.0</td>\n",
       "      <td>32.0</td>\n",
       "      <td>0</td>\n",
       "      <td>9.0</td>\n",
       "      <td>1.0</td>\n",
       "    </tr>\n",
       "    <tr>\n",
       "      <th>1</th>\n",
       "      <td>10</td>\n",
       "      <td>2.0</td>\n",
       "      <td>0</td>\n",
       "      <td>0.0</td>\n",
       "      <td>6.07</td>\n",
       "      <td>0</td>\n",
       "      <td>0.0</td>\n",
       "      <td>0.0</td>\n",
       "      <td>0</td>\n",
       "      <td>0.0</td>\n",
       "      <td>...</td>\n",
       "      <td>4.0</td>\n",
       "      <td>0.0</td>\n",
       "      <td>0.0</td>\n",
       "      <td>0</td>\n",
       "      <td>0</td>\n",
       "      <td>1.0</td>\n",
       "      <td>3.0</td>\n",
       "      <td>1</td>\n",
       "      <td>3.0</td>\n",
       "      <td>1.0</td>\n",
       "    </tr>\n",
       "    <tr>\n",
       "      <th>2</th>\n",
       "      <td>24</td>\n",
       "      <td>11.0</td>\n",
       "      <td>0</td>\n",
       "      <td>0.0</td>\n",
       "      <td>13.12</td>\n",
       "      <td>0</td>\n",
       "      <td>0.0</td>\n",
       "      <td>4.0</td>\n",
       "      <td>0</td>\n",
       "      <td>0.0</td>\n",
       "      <td>...</td>\n",
       "      <td>19.0</td>\n",
       "      <td>0.0</td>\n",
       "      <td>0.0</td>\n",
       "      <td>0</td>\n",
       "      <td>1</td>\n",
       "      <td>1.0</td>\n",
       "      <td>15.0</td>\n",
       "      <td>0</td>\n",
       "      <td>12.0</td>\n",
       "      <td>1.0</td>\n",
       "    </tr>\n",
       "    <tr>\n",
       "      <th>3</th>\n",
       "      <td>42</td>\n",
       "      <td>7.0</td>\n",
       "      <td>0</td>\n",
       "      <td>0.0</td>\n",
       "      <td>10.11</td>\n",
       "      <td>0</td>\n",
       "      <td>0.0</td>\n",
       "      <td>0.0</td>\n",
       "      <td>0</td>\n",
       "      <td>0.0</td>\n",
       "      <td>...</td>\n",
       "      <td>15.0</td>\n",
       "      <td>0.0</td>\n",
       "      <td>0.0</td>\n",
       "      <td>0</td>\n",
       "      <td>0</td>\n",
       "      <td>1.0</td>\n",
       "      <td>17.0</td>\n",
       "      <td>0</td>\n",
       "      <td>7.0</td>\n",
       "      <td>1.0</td>\n",
       "    </tr>\n",
       "    <tr>\n",
       "      <th>4</th>\n",
       "      <td>91</td>\n",
       "      <td>1.0</td>\n",
       "      <td>0</td>\n",
       "      <td>0.0</td>\n",
       "      <td>10.86</td>\n",
       "      <td>0</td>\n",
       "      <td>0.0</td>\n",
       "      <td>1.0</td>\n",
       "      <td>0</td>\n",
       "      <td>0.0</td>\n",
       "      <td>...</td>\n",
       "      <td>4.0</td>\n",
       "      <td>0.0</td>\n",
       "      <td>0.0</td>\n",
       "      <td>0</td>\n",
       "      <td>0</td>\n",
       "      <td>1.0</td>\n",
       "      <td>6.0</td>\n",
       "      <td>0</td>\n",
       "      <td>1.0</td>\n",
       "      <td>1.0</td>\n",
       "    </tr>\n",
       "    <tr>\n",
       "      <th>...</th>\n",
       "      <td>...</td>\n",
       "      <td>...</td>\n",
       "      <td>...</td>\n",
       "      <td>...</td>\n",
       "      <td>...</td>\n",
       "      <td>...</td>\n",
       "      <td>...</td>\n",
       "      <td>...</td>\n",
       "      <td>...</td>\n",
       "      <td>...</td>\n",
       "      <td>...</td>\n",
       "      <td>...</td>\n",
       "      <td>...</td>\n",
       "      <td>...</td>\n",
       "      <td>...</td>\n",
       "      <td>...</td>\n",
       "      <td>...</td>\n",
       "      <td>...</td>\n",
       "      <td>...</td>\n",
       "      <td>...</td>\n",
       "      <td>...</td>\n",
       "    </tr>\n",
       "    <tr>\n",
       "      <th>462220</th>\n",
       "      <td>421088</td>\n",
       "      <td>7.0</td>\n",
       "      <td>1</td>\n",
       "      <td>0.0</td>\n",
       "      <td>27.08</td>\n",
       "      <td>0</td>\n",
       "      <td>0.0</td>\n",
       "      <td>0.0</td>\n",
       "      <td>0</td>\n",
       "      <td>0.0</td>\n",
       "      <td>...</td>\n",
       "      <td>9.0</td>\n",
       "      <td>0.0</td>\n",
       "      <td>0.0</td>\n",
       "      <td>0</td>\n",
       "      <td>0</td>\n",
       "      <td>1.0</td>\n",
       "      <td>13.0</td>\n",
       "      <td>0</td>\n",
       "      <td>7.0</td>\n",
       "      <td>1.0</td>\n",
       "    </tr>\n",
       "    <tr>\n",
       "      <th>462221</th>\n",
       "      <td>421089</td>\n",
       "      <td>8.0</td>\n",
       "      <td>0</td>\n",
       "      <td>0.0</td>\n",
       "      <td>23.69</td>\n",
       "      <td>0</td>\n",
       "      <td>0.0</td>\n",
       "      <td>1.0</td>\n",
       "      <td>1</td>\n",
       "      <td>0.0</td>\n",
       "      <td>...</td>\n",
       "      <td>13.0</td>\n",
       "      <td>0.0</td>\n",
       "      <td>0.0</td>\n",
       "      <td>0</td>\n",
       "      <td>0</td>\n",
       "      <td>1.0</td>\n",
       "      <td>20.0</td>\n",
       "      <td>0</td>\n",
       "      <td>4.0</td>\n",
       "      <td>0.0</td>\n",
       "    </tr>\n",
       "    <tr>\n",
       "      <th>462222</th>\n",
       "      <td>421092</td>\n",
       "      <td>6.0</td>\n",
       "      <td>1</td>\n",
       "      <td>0.0</td>\n",
       "      <td>30.90</td>\n",
       "      <td>0</td>\n",
       "      <td>0.0</td>\n",
       "      <td>0.0</td>\n",
       "      <td>0</td>\n",
       "      <td>0.0</td>\n",
       "      <td>...</td>\n",
       "      <td>9.0</td>\n",
       "      <td>0.0</td>\n",
       "      <td>0.0</td>\n",
       "      <td>0</td>\n",
       "      <td>0</td>\n",
       "      <td>1.0</td>\n",
       "      <td>10.0</td>\n",
       "      <td>0</td>\n",
       "      <td>4.0</td>\n",
       "      <td>0.0</td>\n",
       "    </tr>\n",
       "    <tr>\n",
       "      <th>462223</th>\n",
       "      <td>421093</td>\n",
       "      <td>7.0</td>\n",
       "      <td>0</td>\n",
       "      <td>0.0</td>\n",
       "      <td>27.19</td>\n",
       "      <td>0</td>\n",
       "      <td>0.0</td>\n",
       "      <td>0.0</td>\n",
       "      <td>0</td>\n",
       "      <td>0.0</td>\n",
       "      <td>...</td>\n",
       "      <td>17.0</td>\n",
       "      <td>0.0</td>\n",
       "      <td>0.0</td>\n",
       "      <td>0</td>\n",
       "      <td>0</td>\n",
       "      <td>1.0</td>\n",
       "      <td>16.0</td>\n",
       "      <td>1</td>\n",
       "      <td>7.0</td>\n",
       "      <td>0.0</td>\n",
       "    </tr>\n",
       "    <tr>\n",
       "      <th>462224</th>\n",
       "      <td>421094</td>\n",
       "      <td>5.0</td>\n",
       "      <td>0</td>\n",
       "      <td>0.0</td>\n",
       "      <td>10.83</td>\n",
       "      <td>0</td>\n",
       "      <td>0.0</td>\n",
       "      <td>0.0</td>\n",
       "      <td>1</td>\n",
       "      <td>1.0</td>\n",
       "      <td>...</td>\n",
       "      <td>8.0</td>\n",
       "      <td>0.0</td>\n",
       "      <td>0.0</td>\n",
       "      <td>0</td>\n",
       "      <td>0</td>\n",
       "      <td>1.0</td>\n",
       "      <td>7.0</td>\n",
       "      <td>0</td>\n",
       "      <td>6.0</td>\n",
       "      <td>1.0</td>\n",
       "    </tr>\n",
       "  </tbody>\n",
       "</table>\n",
       "<p>462225 rows × 25 columns</p>\n",
       "</div>"
      ],
      "text/plain": [
       "        Unnamed: 0  num_rev_tl_bal_gt_0  D  sec_app_chargeoff_within_12_mths  \\\n",
       "0                8                  9.0  0                               0.0   \n",
       "1               10                  2.0  0                               0.0   \n",
       "2               24                 11.0  0                               0.0   \n",
       "3               42                  7.0  0                               0.0   \n",
       "4               91                  1.0  0                               0.0   \n",
       "...            ...                  ... ..                               ...   \n",
       "462220      421088                  7.0  1                               0.0   \n",
       "462221      421089                  8.0  0                               0.0   \n",
       "462222      421092                  6.0  1                               0.0   \n",
       "462223      421093                  7.0  0                               0.0   \n",
       "462224      421094                  5.0  0                               0.0   \n",
       "\n",
       "          dti  F  sec_app_inq_last_6mths  mort_acc  B  tax_liens  ...  \\\n",
       "0       16.99  0                     0.0       2.0  0        0.0  ...   \n",
       "1        6.07  0                     0.0       0.0  0        0.0  ...   \n",
       "2       13.12  0                     0.0       4.0  0        0.0  ...   \n",
       "3       10.11  0                     0.0       0.0  0        0.0  ...   \n",
       "4       10.86  0                     0.0       1.0  0        0.0  ...   \n",
       "...       ... ..                     ...       ... ..        ...  ...   \n",
       "462220  27.08  0                     0.0       0.0  0        0.0  ...   \n",
       "462221  23.69  0                     0.0       1.0  1        0.0  ...   \n",
       "462222  30.90  0                     0.0       0.0  0        0.0  ...   \n",
       "462223  27.19  0                     0.0       0.0  0        0.0  ...   \n",
       "462224  10.83  0                     0.0       0.0  1        1.0  ...   \n",
       "\n",
       "        open_acc  sec_app_mort_acc  sec_app_open_act_il  G  A  policy_code  \\\n",
       "0           20.0               0.0                  0.0  0  1          1.0   \n",
       "1            4.0               0.0                  0.0  0  0          1.0   \n",
       "2           19.0               0.0                  0.0  0  1          1.0   \n",
       "3           15.0               0.0                  0.0  0  0          1.0   \n",
       "4            4.0               0.0                  0.0  0  0          1.0   \n",
       "...          ...               ...                  ... .. ..          ...   \n",
       "462220       9.0               0.0                  0.0  0  0          1.0   \n",
       "462221      13.0               0.0                  0.0  0  0          1.0   \n",
       "462222       9.0               0.0                  0.0  0  0          1.0   \n",
       "462223      17.0               0.0                  0.0  0  0          1.0   \n",
       "462224       8.0               0.0                  0.0  0  0          1.0   \n",
       "\n",
       "        num_rev_accts  E  num_bc_sats  loan_status  \n",
       "0                32.0  0          9.0          1.0  \n",
       "1                 3.0  1          3.0          1.0  \n",
       "2                15.0  0         12.0          1.0  \n",
       "3                17.0  0          7.0          1.0  \n",
       "4                 6.0  0          1.0          1.0  \n",
       "...               ... ..          ...          ...  \n",
       "462220           13.0  0          7.0          1.0  \n",
       "462221           20.0  0          4.0          0.0  \n",
       "462222           10.0  0          4.0          0.0  \n",
       "462223           16.0  1          7.0          0.0  \n",
       "462224            7.0  0          6.0          1.0  \n",
       "\n",
       "[462225 rows x 25 columns]"
      ]
     },
     "execution_count": 28,
     "metadata": {},
     "output_type": "execute_result"
    }
   ],
   "source": [
    "loan = pd.read_csv(\"../notebooks/loan_lasso.csv\", delimiter = ',')\n",
    "loan"
   ]
  },
  {
   "cell_type": "markdown",
   "metadata": {},
   "source": [
    "We delete first columns, because it is not any of our variables and it is not useful information."
   ]
  },
  {
   "cell_type": "code",
   "execution_count": 29,
   "metadata": {},
   "outputs": [
    {
     "data": {
      "text/html": [
       "<div>\n",
       "<style scoped>\n",
       "    .dataframe tbody tr th:only-of-type {\n",
       "        vertical-align: middle;\n",
       "    }\n",
       "\n",
       "    .dataframe tbody tr th {\n",
       "        vertical-align: top;\n",
       "    }\n",
       "\n",
       "    .dataframe thead th {\n",
       "        text-align: right;\n",
       "    }\n",
       "</style>\n",
       "<table border=\"1\" class=\"dataframe\">\n",
       "  <thead>\n",
       "    <tr style=\"text-align: right;\">\n",
       "      <th></th>\n",
       "      <th>num_rev_tl_bal_gt_0</th>\n",
       "      <th>D</th>\n",
       "      <th>sec_app_chargeoff_within_12_mths</th>\n",
       "      <th>dti</th>\n",
       "      <th>F</th>\n",
       "      <th>sec_app_inq_last_6mths</th>\n",
       "      <th>mort_acc</th>\n",
       "      <th>B</th>\n",
       "      <th>tax_liens</th>\n",
       "      <th>pub_rec_bankruptcies</th>\n",
       "      <th>...</th>\n",
       "      <th>open_acc</th>\n",
       "      <th>sec_app_mort_acc</th>\n",
       "      <th>sec_app_open_act_il</th>\n",
       "      <th>G</th>\n",
       "      <th>A</th>\n",
       "      <th>policy_code</th>\n",
       "      <th>num_rev_accts</th>\n",
       "      <th>E</th>\n",
       "      <th>num_bc_sats</th>\n",
       "      <th>loan_status</th>\n",
       "    </tr>\n",
       "  </thead>\n",
       "  <tbody>\n",
       "    <tr>\n",
       "      <th>0</th>\n",
       "      <td>9.0</td>\n",
       "      <td>0</td>\n",
       "      <td>0.0</td>\n",
       "      <td>16.99</td>\n",
       "      <td>0</td>\n",
       "      <td>0.0</td>\n",
       "      <td>2.0</td>\n",
       "      <td>0</td>\n",
       "      <td>0.0</td>\n",
       "      <td>1.0</td>\n",
       "      <td>...</td>\n",
       "      <td>20.0</td>\n",
       "      <td>0.0</td>\n",
       "      <td>0.0</td>\n",
       "      <td>0</td>\n",
       "      <td>1</td>\n",
       "      <td>1.0</td>\n",
       "      <td>32.0</td>\n",
       "      <td>0</td>\n",
       "      <td>9.0</td>\n",
       "      <td>1.0</td>\n",
       "    </tr>\n",
       "    <tr>\n",
       "      <th>1</th>\n",
       "      <td>2.0</td>\n",
       "      <td>0</td>\n",
       "      <td>0.0</td>\n",
       "      <td>6.07</td>\n",
       "      <td>0</td>\n",
       "      <td>0.0</td>\n",
       "      <td>0.0</td>\n",
       "      <td>0</td>\n",
       "      <td>0.0</td>\n",
       "      <td>0.0</td>\n",
       "      <td>...</td>\n",
       "      <td>4.0</td>\n",
       "      <td>0.0</td>\n",
       "      <td>0.0</td>\n",
       "      <td>0</td>\n",
       "      <td>0</td>\n",
       "      <td>1.0</td>\n",
       "      <td>3.0</td>\n",
       "      <td>1</td>\n",
       "      <td>3.0</td>\n",
       "      <td>1.0</td>\n",
       "    </tr>\n",
       "    <tr>\n",
       "      <th>2</th>\n",
       "      <td>11.0</td>\n",
       "      <td>0</td>\n",
       "      <td>0.0</td>\n",
       "      <td>13.12</td>\n",
       "      <td>0</td>\n",
       "      <td>0.0</td>\n",
       "      <td>4.0</td>\n",
       "      <td>0</td>\n",
       "      <td>0.0</td>\n",
       "      <td>0.0</td>\n",
       "      <td>...</td>\n",
       "      <td>19.0</td>\n",
       "      <td>0.0</td>\n",
       "      <td>0.0</td>\n",
       "      <td>0</td>\n",
       "      <td>1</td>\n",
       "      <td>1.0</td>\n",
       "      <td>15.0</td>\n",
       "      <td>0</td>\n",
       "      <td>12.0</td>\n",
       "      <td>1.0</td>\n",
       "    </tr>\n",
       "    <tr>\n",
       "      <th>3</th>\n",
       "      <td>7.0</td>\n",
       "      <td>0</td>\n",
       "      <td>0.0</td>\n",
       "      <td>10.11</td>\n",
       "      <td>0</td>\n",
       "      <td>0.0</td>\n",
       "      <td>0.0</td>\n",
       "      <td>0</td>\n",
       "      <td>0.0</td>\n",
       "      <td>2.0</td>\n",
       "      <td>...</td>\n",
       "      <td>15.0</td>\n",
       "      <td>0.0</td>\n",
       "      <td>0.0</td>\n",
       "      <td>0</td>\n",
       "      <td>0</td>\n",
       "      <td>1.0</td>\n",
       "      <td>17.0</td>\n",
       "      <td>0</td>\n",
       "      <td>7.0</td>\n",
       "      <td>1.0</td>\n",
       "    </tr>\n",
       "    <tr>\n",
       "      <th>4</th>\n",
       "      <td>1.0</td>\n",
       "      <td>0</td>\n",
       "      <td>0.0</td>\n",
       "      <td>10.86</td>\n",
       "      <td>0</td>\n",
       "      <td>0.0</td>\n",
       "      <td>1.0</td>\n",
       "      <td>0</td>\n",
       "      <td>0.0</td>\n",
       "      <td>0.0</td>\n",
       "      <td>...</td>\n",
       "      <td>4.0</td>\n",
       "      <td>0.0</td>\n",
       "      <td>0.0</td>\n",
       "      <td>0</td>\n",
       "      <td>0</td>\n",
       "      <td>1.0</td>\n",
       "      <td>6.0</td>\n",
       "      <td>0</td>\n",
       "      <td>1.0</td>\n",
       "      <td>1.0</td>\n",
       "    </tr>\n",
       "    <tr>\n",
       "      <th>...</th>\n",
       "      <td>...</td>\n",
       "      <td>...</td>\n",
       "      <td>...</td>\n",
       "      <td>...</td>\n",
       "      <td>...</td>\n",
       "      <td>...</td>\n",
       "      <td>...</td>\n",
       "      <td>...</td>\n",
       "      <td>...</td>\n",
       "      <td>...</td>\n",
       "      <td>...</td>\n",
       "      <td>...</td>\n",
       "      <td>...</td>\n",
       "      <td>...</td>\n",
       "      <td>...</td>\n",
       "      <td>...</td>\n",
       "      <td>...</td>\n",
       "      <td>...</td>\n",
       "      <td>...</td>\n",
       "      <td>...</td>\n",
       "      <td>...</td>\n",
       "    </tr>\n",
       "    <tr>\n",
       "      <th>462220</th>\n",
       "      <td>7.0</td>\n",
       "      <td>1</td>\n",
       "      <td>0.0</td>\n",
       "      <td>27.08</td>\n",
       "      <td>0</td>\n",
       "      <td>0.0</td>\n",
       "      <td>0.0</td>\n",
       "      <td>0</td>\n",
       "      <td>0.0</td>\n",
       "      <td>0.0</td>\n",
       "      <td>...</td>\n",
       "      <td>9.0</td>\n",
       "      <td>0.0</td>\n",
       "      <td>0.0</td>\n",
       "      <td>0</td>\n",
       "      <td>0</td>\n",
       "      <td>1.0</td>\n",
       "      <td>13.0</td>\n",
       "      <td>0</td>\n",
       "      <td>7.0</td>\n",
       "      <td>1.0</td>\n",
       "    </tr>\n",
       "    <tr>\n",
       "      <th>462221</th>\n",
       "      <td>8.0</td>\n",
       "      <td>0</td>\n",
       "      <td>0.0</td>\n",
       "      <td>23.69</td>\n",
       "      <td>0</td>\n",
       "      <td>0.0</td>\n",
       "      <td>1.0</td>\n",
       "      <td>1</td>\n",
       "      <td>0.0</td>\n",
       "      <td>0.0</td>\n",
       "      <td>...</td>\n",
       "      <td>13.0</td>\n",
       "      <td>0.0</td>\n",
       "      <td>0.0</td>\n",
       "      <td>0</td>\n",
       "      <td>0</td>\n",
       "      <td>1.0</td>\n",
       "      <td>20.0</td>\n",
       "      <td>0</td>\n",
       "      <td>4.0</td>\n",
       "      <td>0.0</td>\n",
       "    </tr>\n",
       "    <tr>\n",
       "      <th>462222</th>\n",
       "      <td>6.0</td>\n",
       "      <td>1</td>\n",
       "      <td>0.0</td>\n",
       "      <td>30.90</td>\n",
       "      <td>0</td>\n",
       "      <td>0.0</td>\n",
       "      <td>0.0</td>\n",
       "      <td>0</td>\n",
       "      <td>0.0</td>\n",
       "      <td>1.0</td>\n",
       "      <td>...</td>\n",
       "      <td>9.0</td>\n",
       "      <td>0.0</td>\n",
       "      <td>0.0</td>\n",
       "      <td>0</td>\n",
       "      <td>0</td>\n",
       "      <td>1.0</td>\n",
       "      <td>10.0</td>\n",
       "      <td>0</td>\n",
       "      <td>4.0</td>\n",
       "      <td>0.0</td>\n",
       "    </tr>\n",
       "    <tr>\n",
       "      <th>462223</th>\n",
       "      <td>7.0</td>\n",
       "      <td>0</td>\n",
       "      <td>0.0</td>\n",
       "      <td>27.19</td>\n",
       "      <td>0</td>\n",
       "      <td>0.0</td>\n",
       "      <td>0.0</td>\n",
       "      <td>0</td>\n",
       "      <td>0.0</td>\n",
       "      <td>0.0</td>\n",
       "      <td>...</td>\n",
       "      <td>17.0</td>\n",
       "      <td>0.0</td>\n",
       "      <td>0.0</td>\n",
       "      <td>0</td>\n",
       "      <td>0</td>\n",
       "      <td>1.0</td>\n",
       "      <td>16.0</td>\n",
       "      <td>1</td>\n",
       "      <td>7.0</td>\n",
       "      <td>0.0</td>\n",
       "    </tr>\n",
       "    <tr>\n",
       "      <th>462224</th>\n",
       "      <td>5.0</td>\n",
       "      <td>0</td>\n",
       "      <td>0.0</td>\n",
       "      <td>10.83</td>\n",
       "      <td>0</td>\n",
       "      <td>0.0</td>\n",
       "      <td>0.0</td>\n",
       "      <td>1</td>\n",
       "      <td>1.0</td>\n",
       "      <td>0.0</td>\n",
       "      <td>...</td>\n",
       "      <td>8.0</td>\n",
       "      <td>0.0</td>\n",
       "      <td>0.0</td>\n",
       "      <td>0</td>\n",
       "      <td>0</td>\n",
       "      <td>1.0</td>\n",
       "      <td>7.0</td>\n",
       "      <td>0</td>\n",
       "      <td>6.0</td>\n",
       "      <td>1.0</td>\n",
       "    </tr>\n",
       "  </tbody>\n",
       "</table>\n",
       "<p>462225 rows × 24 columns</p>\n",
       "</div>"
      ],
      "text/plain": [
       "        num_rev_tl_bal_gt_0  D  sec_app_chargeoff_within_12_mths    dti  F  \\\n",
       "0                       9.0  0                               0.0  16.99  0   \n",
       "1                       2.0  0                               0.0   6.07  0   \n",
       "2                      11.0  0                               0.0  13.12  0   \n",
       "3                       7.0  0                               0.0  10.11  0   \n",
       "4                       1.0  0                               0.0  10.86  0   \n",
       "...                     ... ..                               ...    ... ..   \n",
       "462220                  7.0  1                               0.0  27.08  0   \n",
       "462221                  8.0  0                               0.0  23.69  0   \n",
       "462222                  6.0  1                               0.0  30.90  0   \n",
       "462223                  7.0  0                               0.0  27.19  0   \n",
       "462224                  5.0  0                               0.0  10.83  0   \n",
       "\n",
       "        sec_app_inq_last_6mths  mort_acc  B  tax_liens  pub_rec_bankruptcies  \\\n",
       "0                          0.0       2.0  0        0.0                   1.0   \n",
       "1                          0.0       0.0  0        0.0                   0.0   \n",
       "2                          0.0       4.0  0        0.0                   0.0   \n",
       "3                          0.0       0.0  0        0.0                   2.0   \n",
       "4                          0.0       1.0  0        0.0                   0.0   \n",
       "...                        ...       ... ..        ...                   ...   \n",
       "462220                     0.0       0.0  0        0.0                   0.0   \n",
       "462221                     0.0       1.0  1        0.0                   0.0   \n",
       "462222                     0.0       0.0  0        0.0                   1.0   \n",
       "462223                     0.0       0.0  0        0.0                   0.0   \n",
       "462224                     0.0       0.0  1        1.0                   0.0   \n",
       "\n",
       "        ...  open_acc  sec_app_mort_acc  sec_app_open_act_il  G  A  \\\n",
       "0       ...      20.0               0.0                  0.0  0  1   \n",
       "1       ...       4.0               0.0                  0.0  0  0   \n",
       "2       ...      19.0               0.0                  0.0  0  1   \n",
       "3       ...      15.0               0.0                  0.0  0  0   \n",
       "4       ...       4.0               0.0                  0.0  0  0   \n",
       "...     ...       ...               ...                  ... .. ..   \n",
       "462220  ...       9.0               0.0                  0.0  0  0   \n",
       "462221  ...      13.0               0.0                  0.0  0  0   \n",
       "462222  ...       9.0               0.0                  0.0  0  0   \n",
       "462223  ...      17.0               0.0                  0.0  0  0   \n",
       "462224  ...       8.0               0.0                  0.0  0  0   \n",
       "\n",
       "        policy_code  num_rev_accts  E  num_bc_sats  loan_status  \n",
       "0               1.0           32.0  0          9.0          1.0  \n",
       "1               1.0            3.0  1          3.0          1.0  \n",
       "2               1.0           15.0  0         12.0          1.0  \n",
       "3               1.0           17.0  0          7.0          1.0  \n",
       "4               1.0            6.0  0          1.0          1.0  \n",
       "...             ...            ... ..          ...          ...  \n",
       "462220          1.0           13.0  0          7.0          1.0  \n",
       "462221          1.0           20.0  0          4.0          0.0  \n",
       "462222          1.0           10.0  0          4.0          0.0  \n",
       "462223          1.0           16.0  1          7.0          0.0  \n",
       "462224          1.0            7.0  0          6.0          1.0  \n",
       "\n",
       "[462225 rows x 24 columns]"
      ]
     },
     "execution_count": 29,
     "metadata": {},
     "output_type": "execute_result"
    }
   ],
   "source": [
    "loan = loan.drop(loan.columns[[0]], axis='columns')\n",
    "loan"
   ]
  },
  {
   "cell_type": "markdown",
   "metadata": {},
   "source": [
    "## Model"
   ]
  },
  {
   "cell_type": "markdown",
   "metadata": {},
   "source": [
    "### Fitting"
   ]
  },
  {
   "cell_type": "markdown",
   "metadata": {},
   "source": [
    "We separate the dataset in X and Y variables to create training set and test set after."
   ]
  },
  {
   "cell_type": "code",
   "execution_count": 30,
   "metadata": {},
   "outputs": [],
   "source": [
    "# endogena\n",
    "\n",
    "endogena = ['loan_status'] \n",
    "\n",
    "# exogenas\n",
    "\n",
    "exogenas = list(set(list(loan.columns))-set(endogena))\n",
    "\n",
    "X = loan[exogenas].values\n",
    "Y = loan[endogena].values"
   ]
  },
  {
   "cell_type": "markdown",
   "metadata": {},
   "source": [
    "We take a sample using SMOTE function which was imported previously. This will use 20% to test set and the rest 80% for train test. After this we see the dimensions of each set of data. Our model will train with 387126 variables and will try to predict 92445 different loans."
   ]
  },
  {
   "cell_type": "code",
   "execution_count": 31,
   "metadata": {},
   "outputs": [
    {
     "name": "stdout",
     "output_type": "stream",
     "text": [
      "(387126, 23)\n",
      "(92445, 23)\n"
     ]
    }
   ],
   "source": [
    "X_train, X_test, Y_train, Y_test = train_test_split(X, Y, test_size=0.20, random_state=40)\n",
    "sm = SMOTE(random_state=40, sampling_strategy = 0.4)\n",
    "X_train, Y_train = sm.fit_sample(X_train, Y_train)\n",
    "print(X_train.shape); print(X_test.shape)"
   ]
  },
  {
   "cell_type": "markdown",
   "metadata": {},
   "source": [
    "Now we set our Y variable in test and train set and we see how many clients of each type there are in each set. We see that there is some difference but we do not consider that we have a huge desbalanced dataset."
   ]
  },
  {
   "cell_type": "code",
   "execution_count": 32,
   "metadata": {},
   "outputs": [],
   "source": [
    "ytrain_df = pd.DataFrame(Y_train, columns = ['loan_status'])\n",
    "ytest_df = pd.DataFrame(Y_test, columns = ['loan_status'])"
   ]
  },
  {
   "cell_type": "code",
   "execution_count": 33,
   "metadata": {},
   "outputs": [
    {
     "data": {
      "text/plain": [
       "1.0    0.714287\n",
       "0.0    0.285713\n",
       "Name: loan_status, dtype: float64"
      ]
     },
     "execution_count": 33,
     "metadata": {},
     "output_type": "execute_result"
    }
   ],
   "source": [
    "ytrain_df['loan_status'].value_counts(normalize=True)"
   ]
  },
  {
   "cell_type": "code",
   "execution_count": 34,
   "metadata": {},
   "outputs": [
    {
     "data": {
      "text/plain": [
       "1.0    0.745881\n",
       "0.0    0.254119\n",
       "Name: loan_status, dtype: float64"
      ]
     },
     "execution_count": 34,
     "metadata": {},
     "output_type": "execute_result"
    }
   ],
   "source": [
    "ytest_df['loan_status'].value_counts(normalize=True)"
   ]
  },
  {
   "cell_type": "markdown",
   "metadata": {},
   "source": [
    "The model is trained."
   ]
  },
  {
   "cell_type": "code",
   "execution_count": 35,
   "metadata": {},
   "outputs": [
    {
     "name": "stdout",
     "output_type": "stream",
     "text": [
      "Wall time: 3min 13s\n"
     ]
    },
    {
     "name": "stderr",
     "output_type": "stream",
     "text": [
      "C:\\Users\\diego\\anaconda3\\envs\\gradiente\\lib\\site-packages\\sklearn\\linear_model\\_sag.py:329: ConvergenceWarning: The max_iter was reached which means the coef_ did not converge\n",
      "  warnings.warn(\"The max_iter was reached which means \"\n"
     ]
    }
   ],
   "source": [
    "%%time\n",
    "logit_loan = LogisticRegression(random_state=40, solver=\"saga\", penalty=\"l1\", class_weight=\"balanced\", C=1.0, max_iter=500)\n",
    "logit_loan.fit(X_train, Y_train)\n",
    "logit_probs = logit_loan.predict_proba(X_train)\n",
    "logit_scores = logit_probs[:,1]"
   ]
  },
  {
   "cell_type": "code",
   "execution_count": 36,
   "metadata": {},
   "outputs": [
    {
     "data": {
      "text/plain": [
       "LogisticRegression(class_weight='balanced', max_iter=500, penalty='l1',\n",
       "                   random_state=40, solver='saga')"
      ]
     },
     "execution_count": 36,
     "metadata": {},
     "output_type": "execute_result"
    }
   ],
   "source": [
    "logit_loan"
   ]
  },
  {
   "cell_type": "markdown",
   "metadata": {},
   "source": [
    "Now we can see the precision of the model predicting people who pay and people who do not. Logistic Regression model has a precision of 85% trying to predict borrowers who pay the loan back, but it has only a 37% saying which loans will not be given back."
   ]
  },
  {
   "cell_type": "code",
   "execution_count": 37,
   "metadata": {},
   "outputs": [
    {
     "name": "stdout",
     "output_type": "stream",
     "text": [
      "[[16221  7271]\n",
      " [27578 41375]]\n",
      "              precision    recall  f1-score   support\n",
      "\n",
      "         0.0       0.37      0.69      0.48     23492\n",
      "         1.0       0.85      0.60      0.70     68953\n",
      "\n",
      "    accuracy                           0.62     92445\n",
      "   macro avg       0.61      0.65      0.59     92445\n",
      "weighted avg       0.73      0.62      0.65     92445\n",
      "\n"
     ]
    }
   ],
   "source": [
    "pred_logit = logit_loan.predict(X_test)\n",
    "print(confusion_matrix(Y_test, pred_logit))\n",
    "print(classification_report(Y_test, pred_logit))"
   ]
  },
  {
   "cell_type": "markdown",
   "metadata": {},
   "source": [
    "We see the AUC indicator which is 0.7, which is not bad. Under the plot we can see the total score of the model: 62.29%. This value could be better, but this is just the first model, so we hope to obtain better results from next ones."
   ]
  },
  {
   "cell_type": "code",
   "execution_count": 38,
   "metadata": {},
   "outputs": [
    {
     "data": {
      "image/png": "[encoded data removed]",
      "text/plain": [
       "<Figure size 432x288 with 1 Axes>"
      ]
     },
     "metadata": {
      "needs_background": "light"
     },
     "output_type": "display_data"
    },
    {
     "name": "stdout",
     "output_type": "stream",
     "text": [
      "Logistic Regression score train:  0.6249102359438529\n",
      "Logistic Regression score:  0.6230299096760236\n"
     ]
    }
   ],
   "source": [
    "metrics.plot_roc_curve(logit_loan, X_test, Y_test)\n",
    "plt.show()                    \n",
    "print(\"Logistic Regression score train: \", logit_loan.score(X_train, Y_train))\n",
    "print(\"Logistic Regression score: \", logit_loan.score(X_test, Y_test))"
   ]
  },
  {
   "cell_type": "markdown",
   "metadata": {},
   "source": [
    "After the ROC curve, it is advisable to observe the normalized confusion matrix to see the cases in which the model is correct and in which it fails. "
   ]
  },
  {
   "cell_type": "code",
   "execution_count": 39,
   "metadata": {},
   "outputs": [
    {
     "data": {
      "image/png": "[encoded data removed]",
      "text/plain": [
       "<Figure size 432x288 with 2 Axes>"
      ]
     },
     "metadata": {
      "needs_background": "light"
     },
     "output_type": "display_data"
    }
   ],
   "source": [
    "disp = plot_confusion_matrix(logit_loan, X_test, ytest_df,\n",
    "                            cmap=plt.cm.Blues, normalize = 'true') #Confusion Matrix\n",
    "plt.title('Normalized Confusion Matrix'); #Plot title"
   ]
  },
  {
   "cell_type": "markdown",
   "metadata": {},
   "source": [
    "The results indicate that the logistic regression model is capable of matching 69% of the cases in which a client will not pay. In addition, it can also guess 60% of the cases in which the client repays the loan. However, the model will have the cost that 40% of the people who are going to pay will not be granted the loan. On the other hand, there will be 31% who would not pay back and are loaned the money."
   ]
  },
  {
   "cell_type": "markdown",
   "metadata": {},
   "source": [
    "### Cumulative Gains Curve"
   ]
  },
  {
   "cell_type": "code",
   "execution_count": 14,
   "metadata": {},
   "outputs": [
    {
     "data": {
      "image/png": "[encoded data removed]",
      "text/plain": [
       "<Figure size 432x288 with 1 Axes>"
      ]
     },
     "metadata": {
      "needs_background": "light"
     },
     "output_type": "display_data"
    }
   ],
   "source": [
    "#Plot the cumulative gains graph\n",
    "skplt.metrics.plot_cumulative_gain(pred_logit, X_test)\n",
    "plt.show()"
   ]
  },
  {
   "cell_type": "markdown",
   "metadata": {},
   "source": [
    "### Lift curve"
   ]
  },
  {
   "cell_type": "code",
   "execution_count": 15,
   "metadata": {},
   "outputs": [
    {
     "data": {
      "image/png": "[encoded data removed]",
      "text/plain": [
       "<Figure size 432x288 with 1 Axes>"
      ]
     },
     "metadata": {
      "needs_background": "light"
     },
     "output_type": "display_data"
    }
   ],
   "source": [
    "#Lift curve graph\n",
    "skplt.metrics.plot_lift_curve(pred_logit, X_test);"
   ]
  },
  {
   "cell_type": "markdown",
   "metadata": {},
   "source": [
    "On the one hand, the cumulative gains curve indicates that the paid and unpaid values are obtained at the same rate that we increase the amount of data that we introduce in the model. On the other hand, the lift curve indicates that for both cases the model stops adding value to the prediction as soon as we increase a little the sample with which we work."
   ]
  },
  {
   "cell_type": "markdown",
   "metadata": {},
   "source": [
    "### Saving"
   ]
  },
  {
   "cell_type": "markdown",
   "metadata": {},
   "source": [
    "Now we save the model in order to use for different dataset from the given ones. This will save a lot of time because it will not be necessary to wait to train the model again."
   ]
  },
  {
   "cell_type": "code",
   "execution_count": 40,
   "metadata": {},
   "outputs": [
    {
     "data": {
      "text/plain": [
       "LogisticRegression(class_weight='balanced', max_iter=500, penalty='l1',\n",
       "                   random_state=40, solver='saga')"
      ]
     },
     "execution_count": 40,
     "metadata": {},
     "output_type": "execute_result"
    }
   ],
   "source": [
    "#We import pickle to save the model and use it later with new data\n",
    "filename = 'logistic.sav'\n",
    "pickle.dump(logit_loan, open (filename, 'wb'))\n",
    "model = pickle.load(open('logistic.sav', 'rb'))\n",
    "model"
   ]
  },
  {
   "cell_type": "markdown",
   "metadata": {},
   "source": [
    "### Loading and predicting new data"
   ]
  },
  {
   "cell_type": "markdown",
   "metadata": {},
   "source": [
    "With this code we will be able to load the model we saved in the last step and apply it to new data. When we load the new data we will be able to check the accuracy predicting the new observations."
   ]
  },
  {
   "cell_type": "code",
   "execution_count": 41,
   "metadata": {},
   "outputs": [
    {
     "name": "stdout",
     "output_type": "stream",
     "text": [
      "Accuracy: 62.30%\n"
     ]
    }
   ],
   "source": [
    "#Load model and obtain accuracy for new dataset\n",
    "model = pickle.load(open('logistic.sav', 'rb'))\n",
    "result = model.score(X_test, Y_test)\n",
    "print(\"Accuracy: %.2f%%\" % (result * 100.0))"
   ]
  },
  {
   "cell_type": "code",
   "execution_count": 42,
   "metadata": {},
   "outputs": [
    {
     "data": {
      "image/png": "[encoded data removed]",
      "text/plain": [
       "<Figure size 432x288 with 1 Axes>"
      ]
     },
     "metadata": {
      "needs_background": "light"
     },
     "output_type": "display_data"
    },
    {
     "name": "stdout",
     "output_type": "stream",
     "text": [
      "Logistic Regression score train:  0.6249102359438529\n",
      "Logistic Regression score:  0.6230299096760236\n"
     ]
    }
   ],
   "source": [
    "metrics.plot_roc_curve(model, X_test, Y_test)\n",
    "plt.show()                    \n",
    "print(\"Logistic Regression score train: \", model.score(X_train, Y_train))\n",
    "print(\"Logistic Regression score: \", model.score(X_test, Y_test))"
   ]
  },
  {
   "cell_type": "code",
   "execution_count": 43,
   "metadata": {},
   "outputs": [
    {
     "name": "stdout",
     "output_type": "stream",
     "text": [
      "[[16221  7271]\n",
      " [27578 41375]]\n",
      "              precision    recall  f1-score   support\n",
      "\n",
      "         0.0       0.37      0.69      0.48     23492\n",
      "         1.0       0.85      0.60      0.70     68953\n",
      "\n",
      "    accuracy                           0.62     92445\n",
      "   macro avg       0.61      0.65      0.59     92445\n",
      "weighted avg       0.73      0.62      0.65     92445\n",
      "\n"
     ]
    }
   ],
   "source": [
    "pred_logit = logit_loan.predict(X_test)\n",
    "print(confusion_matrix(Y_test, pred_logit))\n",
    "print(classification_report(Y_test, pred_logit))"
   ]
  },
  {
   "cell_type": "code",
   "execution_count": 44,
   "metadata": {},
   "outputs": [
    {
     "data": {
      "image/png": "[encoded data removed]",
      "text/plain": [
       "<Figure size 432x288 with 2 Axes>"
      ]
     },
     "metadata": {
      "needs_background": "light"
     },
     "output_type": "display_data"
    }
   ],
   "source": [
    "disp = plot_confusion_matrix(logit_loan, X_test, ytest_df,\n",
    "                            cmap=plt.cm.Blues, normalize = 'true') #Confusion Matrix\n",
    "plt.title('Normalized Confusion Matrix'); #Plot title"
   ]
  }
 ],
 "metadata": {
  "kernelspec": {
   "display_name": "Python 3",
   "language": "python",
   "name": "python3"
  },
  "language_info": {
   "codemirror_mode": {
    "name": "ipython",
    "version": 3
   },
   "file_extension": ".py",
   "mimetype": "text/x-python",
   "name": "python",
   "nbconvert_exporter": "python",
   "pygments_lexer": "ipython3",
   "version": "3.8.5"
  },
  "toc": {
   "base_numbering": 1,
   "nav_menu": {},
   "number_sections": false,
   "sideBar": true,
   "skip_h1_title": false,
   "title_cell": "Table of Contents",
   "title_sidebar": "Contents",
   "toc_cell": false,
   "toc_position": {
    "height": "calc(100% - 180px)",
    "left": "10px",
    "top": "150px",
    "width": "165px"
   },
   "toc_section_display": true,
   "toc_window_display": true
  }
 },
 "nbformat": 4,
 "nbformat_minor": 4
}
